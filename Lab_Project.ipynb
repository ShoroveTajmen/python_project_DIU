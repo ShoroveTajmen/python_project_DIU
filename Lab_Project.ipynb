{
  "nbformat": 4,
  "nbformat_minor": 0,
  "metadata": {
    "colab": {
      "name": "Lab_Session_3(1).ipynb",
      "provenance": [],
      "collapsed_sections": [],
      "include_colab_link": true
    },
    "kernelspec": {
      "name": "python3",
      "display_name": "Python 3"
    }
  },
  "cells": [
    {
      "cell_type": "markdown",
      "metadata": {
        "id": "view-in-github",
        "colab_type": "text"
      },
      "source": [
        "<a href=\"https://colab.research.google.com/github/ShoroveTajmen/python_project_DIU/blob/main/Lab_Project.ipynb\" target=\"_parent\"><img src=\"https://colab.research.google.com/assets/colab-badge.svg\" alt=\"Open In Colab\"/></a>"
      ]
    },
    {
      "cell_type": "code",
      "metadata": {
        "id": "put0KDaH6qOk"
      },
      "source": [
        "#built-in functions\n",
        "\n",
        "print(\"Hi, I am semi-colon. Do you miss me?\")\n",
        "print(\"Let me know if you miss me or not. \")\n",
        "s=input()\n",
        "\n",
        "a=10\n",
        "b=21\n",
        "print(max(a,b))\n",
        "print(min(a,b))\n",
        "\n",
        "c=10.4\n",
        "d=int(c)\n",
        "print(d)\n",
        "\n",
        "e=\"python\"\n",
        "print(type(e))"
      ],
      "execution_count": null,
      "outputs": []
    },
    {
      "cell_type": "code",
      "metadata": {
        "id": "B64OlXY6N5Mi"
      },
      "source": [
        ""
      ],
      "execution_count": null,
      "outputs": []
    },
    {
      "cell_type": "code",
      "metadata": {
        "id": "rfnylNHAAXPm"
      },
      "source": [
        "#user defined function\n",
        "\n",
        "def add(a, b):\n",
        "    c=a+b\n",
        "    return c\n",
        "\n",
        "a=int(input(\"Enter a number: \"))\n",
        "b=int(input(\"Enter a number: \"))\n",
        "d=add(a,b)\n",
        "print(\"The sum is\", d)"
      ],
      "execution_count": null,
      "outputs": []
    },
    {
      "cell_type": "code",
      "metadata": {
        "id": "20olaGqmBX7J",
        "outputId": "b2575c5f-2350-4433-b552-b987ae0f06a3",
        "colab": {
          "base_uri": "https://localhost:8080/",
          "height": 86
        }
      },
      "source": [
        "#function with multiple parameters\n",
        "\n",
        "def divisor(x,y,m):\n",
        "    if x%m==0 and y%m==0:\n",
        "        print(\"%d & %d are divisible by %d\"%(x,y,m))\n",
        "    elif x%m==0:\n",
        "        print(\"only %d is divisible by %d\"%(x,m))\n",
        "    elif y%m==0:\n",
        "        print(\"only %d is divisible by %d\"%(y,m))\n",
        "    else:\n",
        "        print(\"none of %d & %d is divisible by %d\"%(x,y,d))\n",
        "\n",
        "divisor(10,20,5)\n",
        "divisor(12,20,5)\n",
        "divisor(10,22,5)\n",
        "divisor(2,5,3)"
      ],
      "execution_count": null,
      "outputs": [
        {
          "output_type": "stream",
          "text": [
            "10 & 20 are divisible by 5\n",
            "only 20 is divisible by 5\n",
            "only 10 is divisible by 5\n",
            "none of 2 & 5 is divisible by 30\n"
          ],
          "name": "stdout"
        }
      ]
    },
    {
      "cell_type": "code",
      "metadata": {
        "id": "P3YgiignDl9E",
        "outputId": "7139e6dc-f19a-44f5-adca-3a73087543af",
        "colab": {
          "base_uri": "https://localhost:8080/",
          "height": 34
        }
      },
      "source": [
        "#function without parameter\n",
        "\n",
        "def summation():\n",
        "    a=3+8\n",
        "    return a\n",
        "\n",
        "b=summation()\n",
        "print(b)"
      ],
      "execution_count": null,
      "outputs": [
        {
          "output_type": "stream",
          "text": [
            "11\n"
          ],
          "name": "stdout"
        }
      ]
    },
    {
      "cell_type": "code",
      "metadata": {
        "id": "x-A4XKYhM_t8",
        "outputId": "49b92703-f930-4177-cbb6-f0139a68d8b8",
        "colab": {
          "base_uri": "https://localhost:8080/",
          "height": 52
        }
      },
      "source": [
        "#function with default parameter value\n",
        "\n",
        "def check(a=0):\n",
        "    if a==0:\n",
        "        print(\"Zero\")\n",
        "    elif a>0:\n",
        "        print(\"Positive\")\n",
        "    else:\n",
        "        print(\"Negative\")\n",
        "\n",
        "check()     #without parameter\n",
        "check(-4)   #with parameter"
      ],
      "execution_count": null,
      "outputs": [
        {
          "output_type": "stream",
          "text": [
            "Zero\n",
            "Negative\n"
          ],
          "name": "stdout"
        }
      ]
    },
    {
      "cell_type": "code",
      "metadata": {
        "id": "Mru9JQ-tNkw3",
        "outputId": "b179a5cf-59c1-490d-91eb-306baf42644b",
        "colab": {
          "base_uri": "https://localhost:8080/",
          "height": 220
        }
      },
      "source": [
        "#local scope\n",
        "\n",
        "def local_scope():\n",
        "    x=7\n",
        "    print(x)\n",
        "\n",
        "local_scope()\n",
        "print(x)"
      ],
      "execution_count": null,
      "outputs": [
        {
          "output_type": "stream",
          "text": [
            "7\n"
          ],
          "name": "stdout"
        },
        {
          "output_type": "error",
          "ename": "NameError",
          "evalue": "ignored",
          "traceback": [
            "\u001b[0;31m---------------------------------------------------------------------------\u001b[0m",
            "\u001b[0;31mNameError\u001b[0m                                 Traceback (most recent call last)",
            "\u001b[0;32m<ipython-input-6-d0e6fae9f72b>\u001b[0m in \u001b[0;36m<module>\u001b[0;34m()\u001b[0m\n\u001b[1;32m      6\u001b[0m \u001b[0;34m\u001b[0m\u001b[0m\n\u001b[1;32m      7\u001b[0m \u001b[0mlocal_scope\u001b[0m\u001b[0;34m(\u001b[0m\u001b[0;34m)\u001b[0m\u001b[0;34m\u001b[0m\u001b[0;34m\u001b[0m\u001b[0m\n\u001b[0;32m----> 8\u001b[0;31m \u001b[0mprint\u001b[0m\u001b[0;34m(\u001b[0m\u001b[0mx\u001b[0m\u001b[0;34m)\u001b[0m\u001b[0;34m\u001b[0m\u001b[0;34m\u001b[0m\u001b[0m\n\u001b[0m",
            "\u001b[0;31mNameError\u001b[0m: name 'x' is not defined"
          ]
        }
      ]
    },
    {
      "cell_type": "code",
      "metadata": {
        "id": "EyROFGhnQJVf",
        "outputId": "5db2e325-b4a8-4324-8010-4abcb8d443d0",
        "colab": {
          "base_uri": "https://localhost:8080/",
          "height": 220
        }
      },
      "source": [
        "#local scope\n",
        "\n",
        "def local_scope():\n",
        "    x=7\n",
        "    return x\n",
        "\n",
        "a=local_scope()\n",
        "print(a)\n",
        "print(x)"
      ],
      "execution_count": null,
      "outputs": [
        {
          "output_type": "stream",
          "text": [
            "7\n"
          ],
          "name": "stdout"
        },
        {
          "output_type": "error",
          "ename": "NameError",
          "evalue": "ignored",
          "traceback": [
            "\u001b[0;31m---------------------------------------------------------------------------\u001b[0m",
            "\u001b[0;31mNameError\u001b[0m                                 Traceback (most recent call last)",
            "\u001b[0;32m<ipython-input-7-336e5e588753>\u001b[0m in \u001b[0;36m<module>\u001b[0;34m()\u001b[0m\n\u001b[1;32m      7\u001b[0m \u001b[0ma\u001b[0m\u001b[0;34m=\u001b[0m\u001b[0mlocal_scope\u001b[0m\u001b[0;34m(\u001b[0m\u001b[0;34m)\u001b[0m\u001b[0;34m\u001b[0m\u001b[0;34m\u001b[0m\u001b[0m\n\u001b[1;32m      8\u001b[0m \u001b[0mprint\u001b[0m\u001b[0;34m(\u001b[0m\u001b[0ma\u001b[0m\u001b[0;34m)\u001b[0m\u001b[0;34m\u001b[0m\u001b[0;34m\u001b[0m\u001b[0m\n\u001b[0;32m----> 9\u001b[0;31m \u001b[0mprint\u001b[0m\u001b[0;34m(\u001b[0m\u001b[0mx\u001b[0m\u001b[0;34m)\u001b[0m\u001b[0;34m\u001b[0m\u001b[0;34m\u001b[0m\u001b[0m\n\u001b[0m",
            "\u001b[0;31mNameError\u001b[0m: name 'x' is not defined"
          ]
        }
      ]
    },
    {
      "cell_type": "code",
      "metadata": {
        "id": "r9JthIe-RbSe",
        "outputId": "4b71e17d-029f-4f17-b98a-9346ac774ed5",
        "colab": {
          "base_uri": "https://localhost:8080/",
          "height": 52
        }
      },
      "source": [
        "#global scope\n",
        "\n",
        "x=10\n",
        "\n",
        "def global_scope():\n",
        "    print(x)\n",
        "\n",
        "print(x)\n",
        "global_scope()"
      ],
      "execution_count": null,
      "outputs": [
        {
          "output_type": "stream",
          "text": [
            "10\n",
            "10\n"
          ],
          "name": "stdout"
        }
      ]
    },
    {
      "cell_type": "code",
      "metadata": {
        "id": "go6zuWDAP_Ck",
        "outputId": "d3e760d8-276d-41f9-9cba-aac0a4a69465",
        "colab": {
          "base_uri": "https://localhost:8080/",
          "height": 34
        }
      },
      "source": [
        "#global scope\n",
        "\n",
        "def global_scope():\n",
        "    global x\n",
        "    x=10\n",
        "\n",
        "global_scope()\n",
        "print(x)"
      ],
      "execution_count": null,
      "outputs": [
        {
          "output_type": "stream",
          "text": [
            "10\n"
          ],
          "name": "stdout"
        }
      ]
    },
    {
      "cell_type": "code",
      "metadata": {
        "id": "dgQ-VDOpIYbz",
        "outputId": "55fe326d-d13c-4f50-97a0-0af741f817cc",
        "colab": {
          "base_uri": "https://localhost:8080/",
          "height": 35
        }
      },
      "source": [
        "from google.colab import drive\n",
        "drive.mount('/content/gdrive')"
      ],
      "execution_count": null,
      "outputs": [
        {
          "output_type": "stream",
          "text": [
            "Drive already mounted at /content/gdrive; to attempt to forcibly remount, call drive.mount(\"/content/gdrive\", force_remount=True).\n"
          ],
          "name": "stdout"
        }
      ]
    },
    {
      "cell_type": "code",
      "metadata": {
        "id": "On5yNCjtik45"
      },
      "source": [
        "#python standard library\n",
        "#csv module\n",
        "\n",
        "import csv\n",
        "\n",
        "with open('gdrive/My Drive/Colab Notebooks/Lab Work/prog_book.csv', newline='') as csvfile:\n",
        "    tmp = csv.reader(csvfile, delimiter=' ', quotechar='|')\n",
        "    for row in tmp:\n",
        "        print(', '.join(row))"
      ],
      "execution_count": null,
      "outputs": []
    },
    {
      "cell_type": "code",
      "metadata": {
        "id": "35Kh-J26KvSJ"
      },
      "source": [
        "import pandas as panda\n"
      ],
      "execution_count": null,
      "outputs": []
    },
    {
      "cell_type": "code",
      "metadata": {
        "id": "rQ8CHJZQLmE7"
      },
      "source": [
        "data=panda.read_csv('gdrive/My Drive/Colab Notebooks/Lab Work/prog_book.csv') "
      ],
      "execution_count": null,
      "outputs": []
    },
    {
      "cell_type": "code",
      "metadata": {
        "id": "011FjLXOOWW6",
        "outputId": "f62b6561-1e9f-4353-ffca-a6cc7a12289a",
        "colab": {
          "base_uri": "https://localhost:8080/",
          "height": 676
        }
      },
      "source": [
        "data.head(20)"
      ],
      "execution_count": null,
      "outputs": [
        {
          "output_type": "execute_result",
          "data": {
            "text/html": [
              "<div>\n",
              "<style scoped>\n",
              "    .dataframe tbody tr th:only-of-type {\n",
              "        vertical-align: middle;\n",
              "    }\n",
              "\n",
              "    .dataframe tbody tr th {\n",
              "        vertical-align: top;\n",
              "    }\n",
              "\n",
              "    .dataframe thead th {\n",
              "        text-align: right;\n",
              "    }\n",
              "</style>\n",
              "<table border=\"1\" class=\"dataframe\">\n",
              "  <thead>\n",
              "    <tr style=\"text-align: right;\">\n",
              "      <th></th>\n",
              "      <th>Rating</th>\n",
              "      <th>Reviews</th>\n",
              "      <th>Book_title</th>\n",
              "      <th>Description</th>\n",
              "      <th>Number_Of_Pages</th>\n",
              "      <th>Type</th>\n",
              "      <th>Price</th>\n",
              "    </tr>\n",
              "  </thead>\n",
              "  <tbody>\n",
              "    <tr>\n",
              "      <th>0</th>\n",
              "      <td>4.17</td>\n",
              "      <td>3,829</td>\n",
              "      <td>The Elements of Style</td>\n",
              "      <td>This style manual offers practical advice on i...</td>\n",
              "      <td>105</td>\n",
              "      <td>Hardcover</td>\n",
              "      <td>9.323529</td>\n",
              "    </tr>\n",
              "    <tr>\n",
              "      <th>1</th>\n",
              "      <td>4.01</td>\n",
              "      <td>1,406</td>\n",
              "      <td>The Information: A History, a Theory, a Flood</td>\n",
              "      <td>James Gleick, the author of the best sellers C...</td>\n",
              "      <td>527</td>\n",
              "      <td>Hardcover</td>\n",
              "      <td>11.000000</td>\n",
              "    </tr>\n",
              "    <tr>\n",
              "      <th>2</th>\n",
              "      <td>3.33</td>\n",
              "      <td>0</td>\n",
              "      <td>Responsive Web Design Overview For Beginners</td>\n",
              "      <td>In Responsive Web Design Overview For Beginner...</td>\n",
              "      <td>50</td>\n",
              "      <td>Kindle Edition</td>\n",
              "      <td>11.267647</td>\n",
              "    </tr>\n",
              "    <tr>\n",
              "      <th>3</th>\n",
              "      <td>3.97</td>\n",
              "      <td>1,658</td>\n",
              "      <td>Ghost in the Wires: My Adventures as the World...</td>\n",
              "      <td>If they were a hall of fame or shame for compu...</td>\n",
              "      <td>393</td>\n",
              "      <td>Hardcover</td>\n",
              "      <td>12.873529</td>\n",
              "    </tr>\n",
              "    <tr>\n",
              "      <th>4</th>\n",
              "      <td>4.06</td>\n",
              "      <td>1,325</td>\n",
              "      <td>How Google Works</td>\n",
              "      <td>Both Eric Schmidt and Jonathan Rosenberg came ...</td>\n",
              "      <td>305</td>\n",
              "      <td>Kindle Edition</td>\n",
              "      <td>13.164706</td>\n",
              "    </tr>\n",
              "    <tr>\n",
              "      <th>5</th>\n",
              "      <td>3.84</td>\n",
              "      <td>117</td>\n",
              "      <td>The Meme Machine</td>\n",
              "      <td>What is a meme? First coined by Richard Dawkin...</td>\n",
              "      <td>288</td>\n",
              "      <td>Paperback</td>\n",
              "      <td>14.188235</td>\n",
              "    </tr>\n",
              "    <tr>\n",
              "      <th>6</th>\n",
              "      <td>4.09</td>\n",
              "      <td>5,938</td>\n",
              "      <td>Start with Why: How Great Leaders Inspire Ever...</td>\n",
              "      <td>Why do you do what you do?\\n\\nWhy are some peo...</td>\n",
              "      <td>256</td>\n",
              "      <td>Hardcover</td>\n",
              "      <td>14.232353</td>\n",
              "    </tr>\n",
              "    <tr>\n",
              "      <th>7</th>\n",
              "      <td>4.15</td>\n",
              "      <td>1,817</td>\n",
              "      <td>Algorithms to Live By: The Computer Science of...</td>\n",
              "      <td>A fascinating exploration of how insights from...</td>\n",
              "      <td>368</td>\n",
              "      <td>Hardcover</td>\n",
              "      <td>14.364706</td>\n",
              "    </tr>\n",
              "    <tr>\n",
              "      <th>8</th>\n",
              "      <td>3.87</td>\n",
              "      <td>2,093</td>\n",
              "      <td>Weapons of Math Destruction: How Big Data Incr...</td>\n",
              "      <td>A former Wall Street quant sounds an alarm on ...</td>\n",
              "      <td>259</td>\n",
              "      <td>Hardcover</td>\n",
              "      <td>14.502941</td>\n",
              "    </tr>\n",
              "    <tr>\n",
              "      <th>9</th>\n",
              "      <td>4.62</td>\n",
              "      <td>0</td>\n",
              "      <td>ZX Spectrum Games Code Club: Twenty fun games ...</td>\n",
              "      <td>This book is ideal for ZX Spectrum fans and be...</td>\n",
              "      <td>128</td>\n",
              "      <td>Paperback</td>\n",
              "      <td>14.641176</td>\n",
              "    </tr>\n",
              "    <tr>\n",
              "      <th>10</th>\n",
              "      <td>4.03</td>\n",
              "      <td>160</td>\n",
              "      <td>Sync: The Emerging Science of Spontaneous Order</td>\n",
              "      <td>At the heart of the universe is a steady, insi...</td>\n",
              "      <td>352</td>\n",
              "      <td>Hardcover</td>\n",
              "      <td>15.229412</td>\n",
              "    </tr>\n",
              "    <tr>\n",
              "      <th>11</th>\n",
              "      <td>3.78</td>\n",
              "      <td>481</td>\n",
              "      <td>The Master Algorithm: How the Quest for the Ul...</td>\n",
              "      <td>A thought-provoking and wide-ranging explorati...</td>\n",
              "      <td>352</td>\n",
              "      <td>Hardcover</td>\n",
              "      <td>15.229412</td>\n",
              "    </tr>\n",
              "    <tr>\n",
              "      <th>12</th>\n",
              "      <td>3.73</td>\n",
              "      <td>33</td>\n",
              "      <td>Ship It!</td>\n",
              "      <td>Ship It! is a collection of tips that show the...</td>\n",
              "      <td>200</td>\n",
              "      <td>Paperback</td>\n",
              "      <td>15.326471</td>\n",
              "    </tr>\n",
              "    <tr>\n",
              "      <th>13</th>\n",
              "      <td>3.87</td>\n",
              "      <td>1,255</td>\n",
              "      <td>Superintelligence: Paths, Dangers, Strategies</td>\n",
              "      <td>Superintelligence asks the questions: what hap...</td>\n",
              "      <td>328</td>\n",
              "      <td>Hardcover</td>\n",
              "      <td>15.682353</td>\n",
              "    </tr>\n",
              "    <tr>\n",
              "      <th>14</th>\n",
              "      <td>3.87</td>\n",
              "      <td>593</td>\n",
              "      <td>The Art of the Start: The Time-Tested, Battle-...</td>\n",
              "      <td>A new product, a new service, a new company, a...</td>\n",
              "      <td>240</td>\n",
              "      <td>Hardcover</td>\n",
              "      <td>15.885294</td>\n",
              "    </tr>\n",
              "    <tr>\n",
              "      <th>15</th>\n",
              "      <td>3.95</td>\n",
              "      <td>417</td>\n",
              "      <td>Kingpin: How One Hacker Took Over the Billion-...</td>\n",
              "      <td>The true story of Max Butler, the master hacke...</td>\n",
              "      <td>288</td>\n",
              "      <td>Hardcover</td>\n",
              "      <td>16.073529</td>\n",
              "    </tr>\n",
              "    <tr>\n",
              "      <th>16</th>\n",
              "      <td>3.85</td>\n",
              "      <td>80</td>\n",
              "      <td>The Quark and the Jaguar: Adventures in the Si...</td>\n",
              "      <td>From one of the architects of the new science ...</td>\n",
              "      <td>392</td>\n",
              "      <td>Paperback</td>\n",
              "      <td>16.367647</td>\n",
              "    </tr>\n",
              "    <tr>\n",
              "      <th>17</th>\n",
              "      <td>3.94</td>\n",
              "      <td>279</td>\n",
              "      <td>Linked: How Everything Is Connected to Everyth...</td>\n",
              "      <td>A cocktail party? A terrorist cell? Ancient ba...</td>\n",
              "      <td>304</td>\n",
              "      <td>Paperback</td>\n",
              "      <td>16.852941</td>\n",
              "    </tr>\n",
              "    <tr>\n",
              "      <th>18</th>\n",
              "      <td>3.75</td>\n",
              "      <td>370</td>\n",
              "      <td>Our Final Invention: Artificial Intelligence a...</td>\n",
              "      <td>In as little as a decade, artificial intellige...</td>\n",
              "      <td>336</td>\n",
              "      <td>Hardcover</td>\n",
              "      <td>16.891176</td>\n",
              "    </tr>\n",
              "    <tr>\n",
              "      <th>19</th>\n",
              "      <td>4.10</td>\n",
              "      <td>2,092</td>\n",
              "      <td>The Innovators: How a Group of Hackers, Genius...</td>\n",
              "      <td>The computer and the internet are among the mo...</td>\n",
              "      <td>542</td>\n",
              "      <td>Hardcover</td>\n",
              "      <td>17.229412</td>\n",
              "    </tr>\n",
              "  </tbody>\n",
              "</table>\n",
              "</div>"
            ],
            "text/plain": [
              "    Rating Reviews  ...            Type      Price\n",
              "0     4.17   3,829  ...       Hardcover   9.323529\n",
              "1     4.01   1,406  ...       Hardcover  11.000000\n",
              "2     3.33       0  ...  Kindle Edition  11.267647\n",
              "3     3.97   1,658  ...       Hardcover  12.873529\n",
              "4     4.06   1,325  ...  Kindle Edition  13.164706\n",
              "5     3.84     117  ...       Paperback  14.188235\n",
              "6     4.09   5,938  ...       Hardcover  14.232353\n",
              "7     4.15   1,817  ...       Hardcover  14.364706\n",
              "8     3.87   2,093  ...       Hardcover  14.502941\n",
              "9     4.62       0  ...       Paperback  14.641176\n",
              "10    4.03     160  ...       Hardcover  15.229412\n",
              "11    3.78     481  ...       Hardcover  15.229412\n",
              "12    3.73      33  ...       Paperback  15.326471\n",
              "13    3.87   1,255  ...       Hardcover  15.682353\n",
              "14    3.87     593  ...       Hardcover  15.885294\n",
              "15    3.95     417  ...       Hardcover  16.073529\n",
              "16    3.85      80  ...       Paperback  16.367647\n",
              "17    3.94     279  ...       Paperback  16.852941\n",
              "18    3.75     370  ...       Hardcover  16.891176\n",
              "19    4.10   2,092  ...       Hardcover  17.229412\n",
              "\n",
              "[20 rows x 7 columns]"
            ]
          },
          "metadata": {
            "tags": []
          },
          "execution_count": 37
        }
      ]
    },
    {
      "cell_type": "code",
      "metadata": {
        "id": "T8dqBMj3Oc-G",
        "outputId": "908af1dc-7b56-41a6-d151-80a57275497e",
        "colab": {
          "base_uri": "https://localhost:8080/",
          "height": 206
        }
      },
      "source": [
        "data.tail(5)"
      ],
      "execution_count": null,
      "outputs": [
        {
          "output_type": "execute_result",
          "data": {
            "text/html": [
              "<div>\n",
              "<style scoped>\n",
              "    .dataframe tbody tr th:only-of-type {\n",
              "        vertical-align: middle;\n",
              "    }\n",
              "\n",
              "    .dataframe tbody tr th {\n",
              "        vertical-align: top;\n",
              "    }\n",
              "\n",
              "    .dataframe thead th {\n",
              "        text-align: right;\n",
              "    }\n",
              "</style>\n",
              "<table border=\"1\" class=\"dataframe\">\n",
              "  <thead>\n",
              "    <tr style=\"text-align: right;\">\n",
              "      <th></th>\n",
              "      <th>Rating</th>\n",
              "      <th>Reviews</th>\n",
              "      <th>Book_title</th>\n",
              "      <th>Description</th>\n",
              "      <th>Number_Of_Pages</th>\n",
              "      <th>Type</th>\n",
              "      <th>Price</th>\n",
              "    </tr>\n",
              "  </thead>\n",
              "  <tbody>\n",
              "    <tr>\n",
              "      <th>266</th>\n",
              "      <td>3.76</td>\n",
              "      <td>0</td>\n",
              "      <td>3D Game Engine Architecture: Engineering Real-...</td>\n",
              "      <td>Dave Eberly's 3D Game Engine Design was the fi...</td>\n",
              "      <td>752</td>\n",
              "      <td>Hardcover</td>\n",
              "      <td>203.108823</td>\n",
              "    </tr>\n",
              "    <tr>\n",
              "      <th>267</th>\n",
              "      <td>3.94</td>\n",
              "      <td>22</td>\n",
              "      <td>An Introduction to Database Systems</td>\n",
              "      <td>Continuing in the eighth edition, An Introduct...</td>\n",
              "      <td>1040</td>\n",
              "      <td>Paperback</td>\n",
              "      <td>212.097059</td>\n",
              "    </tr>\n",
              "    <tr>\n",
              "      <th>268</th>\n",
              "      <td>4.49</td>\n",
              "      <td>36</td>\n",
              "      <td>The Art of Computer Programming, Volumes 1-3 B...</td>\n",
              "      <td>Knuth's classic work has been widely acclaimed...</td>\n",
              "      <td>896</td>\n",
              "      <td>Boxed Set - Hardcover</td>\n",
              "      <td>220.385294</td>\n",
              "    </tr>\n",
              "    <tr>\n",
              "      <th>269</th>\n",
              "      <td>4.77</td>\n",
              "      <td>4</td>\n",
              "      <td>The Art of Computer Programming, Volumes 1-4a ...</td>\n",
              "      <td>\"The bible of all fundamental algorithms and t...</td>\n",
              "      <td>3168</td>\n",
              "      <td>Hardcover</td>\n",
              "      <td>220.385294</td>\n",
              "    </tr>\n",
              "    <tr>\n",
              "      <th>270</th>\n",
              "      <td>3.84</td>\n",
              "      <td>5</td>\n",
              "      <td>A Discipline for Software Engineering</td>\n",
              "      <td>Designed to help individual programmers develo...</td>\n",
              "      <td>789</td>\n",
              "      <td>Hardcover</td>\n",
              "      <td>235.650000</td>\n",
              "    </tr>\n",
              "  </tbody>\n",
              "</table>\n",
              "</div>"
            ],
            "text/plain": [
              "     Rating Reviews  ...                   Type       Price\n",
              "266    3.76       0  ...              Hardcover  203.108823\n",
              "267    3.94      22  ...              Paperback  212.097059\n",
              "268    4.49      36  ...  Boxed Set - Hardcover  220.385294\n",
              "269    4.77       4  ...              Hardcover  220.385294\n",
              "270    3.84       5  ...              Hardcover  235.650000\n",
              "\n",
              "[5 rows x 7 columns]"
            ]
          },
          "metadata": {
            "tags": []
          },
          "execution_count": 38
        }
      ]
    },
    {
      "cell_type": "code",
      "metadata": {
        "id": "SjYFKFvNOxw9",
        "outputId": "86d2ddee-c63f-4b28-f48c-7ebe59268a40",
        "colab": {
          "base_uri": "https://localhost:8080/",
          "height": 276
        }
      },
      "source": [
        "data.info()"
      ],
      "execution_count": null,
      "outputs": [
        {
          "output_type": "stream",
          "text": [
            "<class 'pandas.core.frame.DataFrame'>\n",
            "RangeIndex: 271 entries, 0 to 270\n",
            "Data columns (total 7 columns):\n",
            " #   Column           Non-Null Count  Dtype  \n",
            "---  ------           --------------  -----  \n",
            " 0   Rating           271 non-null    float64\n",
            " 1   Reviews          271 non-null    object \n",
            " 2   Book_title       271 non-null    object \n",
            " 3   Description      271 non-null    object \n",
            " 4   Number_Of_Pages  271 non-null    int64  \n",
            " 5   Type             271 non-null    object \n",
            " 6   Price            271 non-null    float64\n",
            "dtypes: float64(2), int64(1), object(4)\n",
            "memory usage: 14.9+ KB\n"
          ],
          "name": "stdout"
        }
      ]
    },
    {
      "cell_type": "code",
      "metadata": {
        "id": "RQJAkE9OPEX7",
        "outputId": "79451720-75ba-4588-d4b9-075cdc0bff8e",
        "colab": {
          "base_uri": "https://localhost:8080/",
          "height": 35
        }
      },
      "source": [
        "data.shape"
      ],
      "execution_count": null,
      "outputs": [
        {
          "output_type": "execute_result",
          "data": {
            "text/plain": [
              "(271, 7)"
            ]
          },
          "metadata": {
            "tags": []
          },
          "execution_count": 39
        }
      ]
    },
    {
      "cell_type": "code",
      "metadata": {
        "id": "cTLLl54bMfJA"
      },
      "source": [
        ""
      ],
      "execution_count": null,
      "outputs": []
    },
    {
      "cell_type": "code",
      "metadata": {
        "id": "JfIaz4WULBHG"
      },
      "source": [
        ""
      ],
      "execution_count": null,
      "outputs": []
    },
    {
      "cell_type": "code",
      "metadata": {
        "id": "0vIQyFwmK_fe"
      },
      "source": [
        ""
      ],
      "execution_count": null,
      "outputs": []
    },
    {
      "cell_type": "code",
      "metadata": {
        "id": "kwAgFpv1IH63"
      },
      "source": [
        ""
      ],
      "execution_count": null,
      "outputs": []
    },
    {
      "cell_type": "code",
      "metadata": {
        "id": "ZZTX9sWwWBrK",
        "outputId": "541aebcb-01ce-4c2d-f32c-4f2a4283a69b",
        "colab": {
          "base_uri": "https://localhost:8080/",
          "height": 121
        }
      },
      "source": [
        "#python standard library\n",
        "#math module\n",
        "\n",
        "import math\n",
        "\n",
        "print(math.pi)          #value of pi\n",
        "\n",
        "x=9.2\n",
        "print(math.ceil(x))     #round to the smallest integer not less than x\n",
        "print(math.floor(x))    #rount to the largest integer not greater than x\n",
        "\n",
        "print(math.sin(78))     #trigonometric sine of x (x in radians)\n",
        "\n",
        "print(math.pow(2,3))    #2 to the power 3\n",
        "\n",
        "print(math.sqrt(16))    #square root of 16"
      ],
      "execution_count": null,
      "outputs": [
        {
          "output_type": "stream",
          "text": [
            "3.141592653589793\n",
            "10\n",
            "9\n",
            "0.5139784559875352\n",
            "8.0\n",
            "4.0\n"
          ],
          "name": "stdout"
        }
      ]
    }
  ]
}